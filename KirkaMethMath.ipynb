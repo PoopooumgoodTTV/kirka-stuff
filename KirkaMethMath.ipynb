{
 "cells": [
  {
   "cell_type": "code",
   "execution_count": 1,
   "id": "5551f77e-716b-4606-b6dc-8ae28a222292",
   "metadata": {},
   "outputs": [],
   "source": [
    "class Chest:\n",
    "    def __init__(self, name:str, dropProbability:list,price:int):\n",
    "        self.name = name\n",
    "        self.commonChance, self.rareChance, self.epicChance, self.legendaryChance, self.mythicChance = dropProbability\n",
    "        self.dropProbability = dropProbability\n",
    "        self.price = price\n",
    "    def cost_per_chance(self, Chance):\n",
    "        if Chance == 0:\n",
    "            return float('inf')\n",
    "        return self.price / Chance\n",
    "\n",
    "    def __str__(self):\n",
    "        return f\"\"\"\\\n",
    "        {self.name}:\n",
    "        -----\n",
    "        Price: {self.price}\n",
    "        -----\n",
    "        Common chance: {self.commonChance}%\n",
    "        Rare chance: {self.rareChance}%\n",
    "        Epic chance: {self.epicChance}%\n",
    "        Legendary chance: {self.legendaryChance}%\n",
    "        Mythic Chance: {self.mythicChance}%\n",
    "        \"\"\""
   ]
  },
  {
   "cell_type": "code",
   "execution_count": 2,
   "id": "43c99e22-f755-43fa-915b-97a73713df04",
   "metadata": {},
   "outputs": [],
   "source": [
    "woodenChest = Chest(\"Wood\",[70,25,4,1,0.01], 250)\n",
    "iceChest = Chest(\"Ice\",[44,38,16,1.7,0.03],500)\n",
    "goldenChest = Chest(\"Golden\", [0,66,31,3,0.1], 1000)"
   ]
  },
  {
   "cell_type": "code",
   "execution_count": 3,
   "id": "7312c7eb-bb53-4960-8f12-64e51064cf4e",
   "metadata": {},
   "outputs": [],
   "source": [
    "\n",
    "rarities = ['Common', 'Rare', 'Epic', 'Legendary', 'Mythic']\n",
    "rarity_chances = ['commonChance', 'rareChance', 'epicChance', 'legendaryChance', 'mythicChance']\n",
    "chests = [woodenChest, iceChest, goldenChest]"
   ]
  },
  {
   "cell_type": "code",
   "execution_count": 4,
   "id": "8adc1837-a68e-46a3-86a0-fec33d273da2",
   "metadata": {},
   "outputs": [
    {
     "name": "stdout",
     "output_type": "stream",
     "text": [
      "--- Common ---\n",
      "Wood Chest: Cost per 1% Common Chance = 3.57 currency units\n",
      "Ice Chest: Cost per 1% Common Chance = 11.36 currency units\n",
      "Golden Chest: Cost per 1% Common Chance = inf currency units\n",
      "\n",
      "Best Chest to buy for Common: Wood Chest\n",
      "\n",
      "--- Rare ---\n",
      "Wood Chest: Cost per 1% Rare Chance = 10.00 currency units\n",
      "Ice Chest: Cost per 1% Rare Chance = 13.16 currency units\n",
      "Golden Chest: Cost per 1% Rare Chance = 15.15 currency units\n",
      "\n",
      "Best Chest to buy for Rare: Wood Chest\n",
      "\n",
      "--- Epic ---\n",
      "Wood Chest: Cost per 1% Epic Chance = 62.50 currency units\n",
      "Ice Chest: Cost per 1% Epic Chance = 31.25 currency units\n",
      "Golden Chest: Cost per 1% Epic Chance = 32.26 currency units\n",
      "\n",
      "Best Chest to buy for Epic: Ice Chest\n",
      "\n",
      "--- Legendary ---\n",
      "Wood Chest: Cost per 1% Legendary Chance = 250.00 currency units\n",
      "Ice Chest: Cost per 1% Legendary Chance = 294.12 currency units\n",
      "Golden Chest: Cost per 1% Legendary Chance = 333.33 currency units\n",
      "\n",
      "Best Chest to buy for Legendary: Wood Chest\n",
      "\n",
      "--- Mythic ---\n",
      "Wood Chest: Cost per 1% Mythic Chance = 25,000.00 currency units\n",
      "Ice Chest: Cost per 1% Mythic Chance = 16,666.67 currency units\n",
      "Golden Chest: Cost per 1% Mythic Chance = 10,000.00 currency units\n",
      "\n",
      "Best Chest to buy for Mythic: Golden Chest\n",
      "\n"
     ]
    }
   ],
   "source": [
    "# Iterate over each rarity\n",
    "for rarity, chance in zip(rarities, rarity_chances):\n",
    "    # Find the best chest for the current rarity\n",
    "    best_chest = min(chests, key=lambda chest: chest.cost_per_chance(getattr(chest, chance)))\n",
    "\n",
    "    print(f\"--- {rarity} ---\")\n",
    "    for chest in chests:\n",
    "        cost_per_chance = chest.cost_per_chance(getattr(chest, chance))\n",
    "        print(f\"{chest.name} Chest: Cost per 1% {rarity} Chance = {cost_per_chance:,.2f} currency units\")\n",
    "\n",
    "    print(f\"\\nBest Chest to buy for {rarity}: {best_chest.name} Chest\\n\")"
   ]
  }
 ],
 "metadata": {
  "kernelspec": {
   "display_name": "Python 3 (ipykernel)",
   "language": "python",
   "name": "python3"
  },
  "language_info": {
   "codemirror_mode": {
    "name": "ipython",
    "version": 3
   },
   "file_extension": ".py",
   "mimetype": "text/x-python",
   "name": "python",
   "nbconvert_exporter": "python",
   "pygments_lexer": "ipython3",
   "version": "3.12.4"
  }
 },
 "nbformat": 4,
 "nbformat_minor": 5
}
